{
 "cells": [
  {
   "attachments": {},
   "cell_type": "markdown",
   "metadata": {},
   "source": [
    "# Exploration of the Internation Space Station"
   ]
  },
  {
   "attachments": {},
   "cell_type": "markdown",
   "metadata": {},
   "source": [
    "### - Find a public API that provides real-time data without the need for registration. \n",
    "[Open-Notify-API](!http://open-notify.org/Open-Notify-API/) is an API put together by Nathan Bergey to provide services which include showing the [current position of the ISS in space](!http://api.open-notify.org/iss-now.json) and the [current number of people in space](!http://api.open-notify.org/astros.json).\n",
    "\n",
    "### - Use Python and requests to retrieve the data from the API, and transform it into a format that is suitable for storage and analysis. This can involve cleaning the data, normalizing the data, or converting the data to a different format"
   ]
  },
  {
   "attachments": {},
   "cell_type": "markdown",
   "metadata": {},
   "source": [
    "#### Import Libraries"
   ]
  },
  {
   "cell_type": "code",
   "execution_count": 1,
   "metadata": {},
   "outputs": [],
   "source": [
    "import requests\n",
    "import pandas as pd\n",
    "import numpy as np\n",
    "import time\n",
    "\n",
    "from prettymaps import *\n",
    "\n",
    "from matplotlib import pyplot as plt\n",
    "\n",
    "from geopy.geocoders import Nominatim\n",
    "\n",
    "import warnings\n",
    "\n",
    "warnings.filterwarnings('ignore')"
   ]
  },
  {
   "cell_type": "code",
   "execution_count": 2,
   "metadata": {},
   "outputs": [],
   "source": [
    "!pip freeze > requirements.txt\n",
    "# help(prettymaps.draw)"
   ]
  },
  {
   "attachments": {},
   "cell_type": "markdown",
   "metadata": {},
   "source": [
    "#### Fetch the current ISS location data"
   ]
  },
  {
   "cell_type": "code",
   "execution_count": 3,
   "metadata": {},
   "outputs": [],
   "source": [
    "# plt.rcParams['font.family'] = 'sans-serif'\n",
    "# plt.rcParams['font.sans-serif'] = ['monospace']"
   ]
  },
  {
   "cell_type": "code",
   "execution_count": 4,
   "metadata": {},
   "outputs": [],
   "source": [
    "def fetch_iss_location():\n",
    "    response = requests.get(\"http://api.open-notify.org/iss-now.json\")\n",
    "    data = response.json()\n",
    "    lat = float(data['iss_position']['latitude'])\n",
    "    lon = float(data['iss_position']['longitude'])\n",
    "    return lat, lon\n",
    "\n",
    "# Define the location and radius of the map\n",
    "location = fetch_iss_location()\n",
    "radius = 1500\n",
    "plot_layers = {\n",
    "        'green': {\n",
    "            'tags': {\n",
    "                'landuse': 'grass',\n",
    "                'natural': ['island', 'wood'],\n",
    "                'leisure': 'park'\n",
    "            }\n",
    "        },\n",
    "        'forest': {\n",
    "            'tags': {\n",
    "                'landuse': 'forest'\n",
    "            }\n",
    "        },\n",
    "        'water': {\n",
    "            'tags': {\n",
    "                'natural': ['water', 'bay']\n",
    "            }\n",
    "        },\n",
    "        'parking': {\n",
    "            'tags': {\n",
    "                'amenity': 'parking',\n",
    "                'highway': 'pedestrian',\n",
    "                'man_made': 'pier'\n",
    "            }\n",
    "        },\n",
    "        'streets': {\n",
    "            'width': {\n",
    "                'motorway': 5,\n",
    "                'trunk': 4,\n",
    "                'primary': 3.5,\n",
    "                'secondary': 3,\n",
    "                'tertiary': 2.5,\n",
    "                'residential': 2,\n",
    "                'service': 1.5,\n",
    "                'pedestrian': 1,\n",
    "                'footway': 1,\n",
    "            }\n",
    "        }\n",
    "    }\n",
    "plot_style = {\n",
    "    'padding': 0.01,\n",
    "    'perimeter': {'fc': '#F2F4CB', 'ec': '#2F3737', 'hatch': 'ooo...','lw': 4, 'zorder': 7},\n",
    "    \"background\": {\n",
    "        \"fc\": \"#F2F4CB\",\n",
    "        \"ec\": \"#dadbc1\",\n",
    "        \"hatch\": \"ooo...\",\n",
    "    },\n",
    "    \"perimeter\": {\n",
    "        \"fc\": \"#F2F4CB\",\n",
    "        \"ec\": \"#dadbc1\",\n",
    "        \"lw\": 0,\n",
    "        \"hatch\": \"ooo...\",\n",
    "    },\n",
    "    \"green\": {\n",
    "        \"fc\": \"#D0F1BF\",\n",
    "        \"ec\": \"#2F3737\",\n",
    "        \"lw\": 1,\n",
    "    },\n",
    "    \"forest\": {\n",
    "        \"fc\": \"#64B96A\",\n",
    "        \"ec\": \"#2F3737\",\n",
    "        \"lw\": 1,\n",
    "    },\n",
    "    \"water\": {\n",
    "        \"fc\": \"#a1e3ff\",\n",
    "        \"ec\": \"#2F3737\",\n",
    "        \"hatch\": \"ooo...\",\n",
    "        \"hatch_c\": \"#85c9e6\",\n",
    "        \"lw\": 1,\n",
    "    },\n",
    "    \"parking\": {\n",
    "        \"fc\": \"#F2F4CB\",\n",
    "        \"ec\": \"#2F3737\",\n",
    "        \"lw\": 1,\n",
    "    },\n",
    "    \"streets\": {\n",
    "        \"fc\": \"#2F3737\",\n",
    "        \"ec\": \"#475657\",\n",
    "        \"alpha\": 1,\n",
    "        \"lw\": 0,\n",
    "    },\n",
    "    \"building\": {\n",
    "        \"palette\": [\n",
    "            \"#FFC857\",\n",
    "            \"#E9724C\",\n",
    "            \"#C5283D\"\n",
    "        ],\n",
    "        \"ec\": \"#2F3737\",\n",
    "        \"lw\": 0.5,\n",
    "    }}\n"
   ]
  },
  {
   "cell_type": "code",
   "execution_count": 5,
   "metadata": {},
   "outputs": [],
   "source": [
    "# Check if coordinates are in the ocean\n",
    "def checkOcean(lat, lon):\n",
    "    ''''Returns True if coordinates are in the ocean, False otherwise'''\n",
    "    geolocator = Nominatim(user_agent=\"iss\")\n",
    "    max_attampts = 5\n",
    "    attempt_count = 0\n",
    "\n",
    "    while True:\n",
    "        curr_location = geolocator.reverse((lat, lon), exactly_one=True, timeout=10)\n",
    "        # print(f\"attempt_count: {attempt_count}\")\n",
    "        if curr_location is None:\n",
    "            print(f\"Location is in the sea\")\n",
    "            return True\n",
    "        else:\n",
    "            print(f\"Getting address of {curr_location}\")\n",
    "            # Check if the curr_location is in the ocean\n",
    "            address = curr_location.address.lower()\n",
    "            # Return true and break out of while if the address contains the word 'ocean' or 'sea' or 'lake' or 'river' or 'bay' or there is no address\n",
    "            if 'ocean' in address or 'sea' in address:\n",
    "                # print(f\"Attempt: {attempt_count}, \\n Address: {curr_location.address}, \\n In ocean\")\n",
    "                return True\n",
    "            else:\n",
    "                # print(f\"Attempt: {attempt_count}, \\n Address: {curr_location.address}, \\n Not in ocean\")\n",
    "                return False\n"
   ]
  },
  {
   "cell_type": "code",
   "execution_count": 6,
   "metadata": {},
   "outputs": [
    {
     "data": {
      "text/plain": [
       "(-50.7641, -63.1539)"
      ]
     },
     "metadata": {},
     "output_type": "display_data"
    },
    {
     "name": "stdout",
     "output_type": "stream",
     "text": [
      "Location is in the sea\n"
     ]
    },
    {
     "data": {
      "text/plain": [
       "True"
      ]
     },
     "execution_count": 6,
     "metadata": {},
     "output_type": "execute_result"
    }
   ],
   "source": [
    "display(location)\n",
    "checkOcean(location[0], location[1])"
   ]
  },
  {
   "attachments": {},
   "cell_type": "markdown",
   "metadata": {},
   "source": [
    "_I want to use __prettymaps__ to display the map_"
   ]
  },
  {
   "cell_type": "code",
   "execution_count": 7,
   "metadata": {},
   "outputs": [],
   "source": [
    "def drawMapWithPrettymaps(location, radius = 10000):\n",
    "    '''Returns a map of the location with prettymaps or Just a blue map and the coordinates if the location is in the ocean'''\n",
    "    plot_layers = {\n",
    "        'green': {\n",
    "            'tags': {\n",
    "                'landuse': 'grass',\n",
    "                'natural': ['island', 'wood'],\n",
    "                'leisure': 'park'\n",
    "            }\n",
    "        },\n",
    "        'forest': {\n",
    "            'tags': {\n",
    "                'landuse': 'forest'\n",
    "            }\n",
    "        },\n",
    "        'water': {\n",
    "            'tags': {\n",
    "                'natural': ['water', 'bay']\n",
    "            }\n",
    "        },\n",
    "        'parking': {\n",
    "            'tags': {\n",
    "                'amenity': 'parking',\n",
    "                'highway': 'pedestrian',\n",
    "                'man_made': 'pier'\n",
    "            }\n",
    "        },\n",
    "        'streets': {\n",
    "            'width': {\n",
    "                'motorway': 5,\n",
    "                'trunk': 4,\n",
    "                'primary': 3.5,\n",
    "                'secondary': 3,\n",
    "                'tertiary': 2.5,\n",
    "                'residential': 2,\n",
    "                'service': 1.5,\n",
    "                'pedestrian': 1,\n",
    "                'footway': 1,\n",
    "            }\n",
    "        }\n",
    "        }\n",
    "    plot_style = {\n",
    "        'padding': 0.01,\n",
    "        'perimeter': {'fc': '#F2F4CB', 'ec': '#2F3737', 'hatch': 'ooo...','lw': 4, 'zorder': 7},\n",
    "        \"background\": {\n",
    "            \"fc\": \"#F2F4CB\",\n",
    "            \"ec\": \"#dadbc1\",\n",
    "            \"hatch\": \"ooo...\",\n",
    "        },\n",
    "        \"perimeter\": {\n",
    "            \"fc\": \"#F2F4CB\",\n",
    "            \"ec\": \"#dadbc1\",\n",
    "            \"lw\": 0,\n",
    "            \"hatch\": \"ooo...\",\n",
    "        },\n",
    "        \"green\": {\n",
    "            \"fc\": \"#D0F1BF\",\n",
    "            \"ec\": \"#2F3737\",\n",
    "            \"lw\": 1,\n",
    "        },\n",
    "        \"forest\": {\n",
    "            \"fc\": \"#64B96A\",\n",
    "            \"ec\": \"#2F3737\",\n",
    "            \"lw\": 1,\n",
    "        },\n",
    "        \"water\": {\n",
    "            \"fc\": \"#a1e3ff\",\n",
    "            \"ec\": \"#2F3737\",\n",
    "            \"hatch\": \"ooo...\",\n",
    "            \"hatch_c\": \"#85c9e6\",\n",
    "            \"lw\": 1,\n",
    "        },\n",
    "        \"parking\": {\n",
    "            \"fc\": \"#F2F4CB\",\n",
    "            \"ec\": \"#2F3737\",\n",
    "            \"lw\": 1,\n",
    "        },\n",
    "        \"streets\": {\n",
    "            \"fc\": \"#2F3737\",\n",
    "            \"ec\": \"#475657\",\n",
    "            \"alpha\": 1,\n",
    "            \"lw\": 0,\n",
    "        },\n",
    "        \"building\": {\n",
    "            \"palette\": [\n",
    "                \"#FFC857\",\n",
    "                \"#E9724C\",\n",
    "                \"#C5283D\"\n",
    "            ],\n",
    "            \"ec\": \"#2F3737\",\n",
    "            \"lw\": 0.5,\n",
    "        }}\n",
    "\n",
    "        # Check if the location is in the ocean\n",
    "    if not checkOcean(location[0], location[1]):\n",
    "        print(f\"{location} is not in the ocean\")\n",
    "        # Draw a map with just the coordinates\n",
    "        fig, ax = plt.subplots(figsize=(10, 10))\n",
    "        ax.set_axis_off()\n",
    "\n",
    "        map = plot(\n",
    "            query = location,\n",
    "            radius = radius,\n",
    "            layers=plot_layers,\n",
    "            style=plot_style,\n",
    "            ax=ax,\n",
    "            credit=False,\n",
    "            circle=True\n",
    "        )\n",
    "        \n",
    "        return fig, ax\n",
    "    else:\n",
    "        # Return a blue square via matplotlib with the coordinates at the bottom left\n",
    "        fig, ax = plt.subplots(figsize=(10, 10))\n",
    "        ax.set_facecolor('#a1e3ff')\n",
    "        # print coordinates at the bottom left\n",
    "        ax.text(0.63, 0.02, f\" {location}\", fontsize=18)\n",
    "        ax.tick_params(axis='both', which='both', colors='white', labelsize=.1)\n",
    "\n",
    "        # Remove the border\n",
    "        ax.spines['top'].set_visible(False)\n",
    "        ax.spines['right'].set_visible(False)\n",
    "        ax.spines['bottom'].set_visible(False)\n",
    "        ax.spines['left'].set_visible(False)\n",
    "\n",
    "        plt.show()\n",
    "        \n",
    "        return fig, ax\n"
   ]
  },
  {
   "attachments": {},
   "cell_type": "markdown",
   "metadata": {},
   "source": [
    "I learnt:  \n",
    "- Prettymaps doesn't display maps with coordinates over the sea. \n",
    "    - ➡️💡 So I replaced with water bodies with a blue square"
   ]
  },
  {
   "cell_type": "code",
   "execution_count": 8,
   "metadata": {},
   "outputs": [
    {
     "name": "stdout",
     "output_type": "stream",
     "text": [
      "Location is in the sea\n"
     ]
    },
    {
     "data": {
      "image/png": "[encoded data removed]",
      "text/plain": [
       "<Figure size 1000x1000 with 1 Axes>"
      ]
     },
     "metadata": {},
     "output_type": "display_data"
    },
    {
     "data": {
      "text/plain": [
       "(<Figure size 1000x1000 with 1 Axes>, <Axes: >)"
      ]
     },
     "execution_count": 8,
     "metadata": {},
     "output_type": "execute_result"
    }
   ],
   "source": [
    "drawMapWithPrettymaps(location)"
   ]
  },
  {
   "attachments": {},
   "cell_type": "markdown",
   "metadata": {},
   "source": [
    "<!-- Now how to represent the people in the ISS\n",
    "- Just write FirstName and Initials\n",
    "- Write the count of people then on the side the names -->\n",
    "\n",
    "#### How to represent the people in the ISS\n",
    "##### Options:\n",
    "- Just write FirstName and Initials\n",
    "- Write the count of people then on the side the names"
   ]
  },
  {
   "cell_type": "code",
   "execution_count": 9,
   "metadata": {},
   "outputs": [
    {
     "name": "stdout",
     "output_type": "stream",
     "text": [
      "(['Sergey Prokopyev', 'Dmitry Petelin', 'Frank Rubio', 'Stephen Bowen', 'Warren Hoburg', 'Sultan Alneyadi', 'Andrey Fedyaev', 'Jing Haiping', 'Gui Haichow', 'Zhu Yangzhu'], ['ISS', 'ISS', 'ISS', 'ISS', 'ISS', 'ISS', 'ISS', 'Tiangong', 'Tiangong', 'Tiangong'])\n"
     ]
    }
   ],
   "source": [
    "# Fetch the names of the people in space\n",
    "def fetch_iss_occupants():\n",
    "    response = requests.get(\"http://api.open-notify.org/astros.json\")\n",
    "    response.raise_for_status()\n",
    "    names = [person[\"name\"] for person in response.json()[\"people\"]]\n",
    "    crafts = [person[\"craft\"] for person in response.json()[\"people\"]]\n",
    "    return names, crafts\n",
    "\n",
    "print(fetch_iss_occupants())"
   ]
  },
  {
   "cell_type": "code",
   "execution_count": 27,
   "metadata": {},
   "outputs": [
    {
     "name": "stdout",
     "output_type": "stream",
     "text": [
      "craft dictionary: {'ISS': ['Sergey Prokopyev', 'Dmitry Petelin', 'Frank Rubio', 'Stephen Bowen', 'Warren Hoburg', 'Sultan Alneyadi', 'Andrey Fedyaev'], 'Tiangong': ['Jing Haiping', 'Gui Haichow', 'Zhu Yangzhu']}\n"
     ]
    },
    {
     "data": {
      "text/plain": [
       "(<Figure size 1000x1000 with 1 Axes>, <Axes: >)"
      ]
     },
     "execution_count": 27,
     "metadata": {},
     "output_type": "execute_result"
    },
    {
     "data": {
      "image/png": "[encoded data removed]",
      "text/plain": [
       "<Figure size 1000x1000 with 1 Axes>"
      ]
     },
     "metadata": {},
     "output_type": "display_data"
    }
   ],
   "source": [
    "def peopleInISS():\n",
    "    '''Returns text representing the number of people in the ISS '''\n",
    "    people, crafts = fetch_iss_occupants()\n",
    "    # Combine into a dictionary with the craft as the key and the people as the value\n",
    "    craft_dict = {}\n",
    "    for craft, person in zip(crafts, people):\n",
    "        if craft not in craft_dict:\n",
    "            craft_dict[craft] = []\n",
    "        craft_dict[craft].append(person)\n",
    "    print(f\"craft dictionary: {craft_dict}\")\n",
    "    # Print the number of people in the ISS and their names in a figure\n",
    "    fig, ax = plt.subplots(figsize=(10, 10))\n",
    "    \n",
    "    y_start = 0.17\n",
    "    # print the number of people and the names of the people in the bottom left\n",
    "    ax.text(0.63, y_start, f\"{len(people)} people in the ISS\\n\", fontsize=16) \n",
    "    for craft, passengers in craft_dict.items():\n",
    "        ax.text(0.65, y_start - 0.03, f'{craft}\\n', fontsize=12, fontweight=700)\n",
    "        ax.text(0.70, y_start - 0.15, \"\\n\".join(passengers), fontsize=9)\n",
    "        ax.tick_params(axis='both', which='both', colors='white', labelsize=.1)\n",
    "        \n",
    "        y_start -= 0.2  # Adjust the y-coordinate for the next set of text\n",
    "\n",
    "    # Remove the border\n",
    "    ax.spines['top'].set_visible(False)\n",
    "    ax.spines['right'].set_visible(False)\n",
    "    ax.spines['bottom'].set_visible(False)\n",
    "    ax.spines['left'].set_visible(False)\n",
    "    \n",
    "    return fig, ax\n",
    "\n",
    "peopleInISS()"
   ]
  },
  {
   "cell_type": "code",
   "execution_count": 31,
   "metadata": {},
   "outputs": [
    {
     "name": "stdout",
     "output_type": "stream",
     "text": [
      "Location is in the sea\n"
     ]
    },
    {
     "data": {
      "image/png": "[encoded data removed]",
      "text/plain": [
       "<Figure size 1000x1000 with 1 Axes>"
      ]
     },
     "metadata": {},
     "output_type": "display_data"
    },
    {
     "data": {
      "text/plain": [
       "(<Figure size 1000x1000 with 1 Axes>, <Axes: >)"
      ]
     },
     "execution_count": 31,
     "metadata": {},
     "output_type": "execute_result"
    }
   ],
   "source": [
    "def drawMapWithPrettymaps(location, radius = 1000):\n",
    "    '''Returns a map of the location with prettymaps or Just a blue map and the coordinates if the location is in the ocean'''\n",
    "    plot_layers = {\n",
    "        'green': {\n",
    "            'tags': {\n",
    "                'landuse': 'grass',\n",
    "                'natural': ['island', 'wood'],\n",
    "                'leisure': 'park'\n",
    "            }\n",
    "        },\n",
    "        'forest': {\n",
    "            'tags': {\n",
    "                'landuse': 'forest'\n",
    "            }\n",
    "        },\n",
    "        'water': {\n",
    "            'tags': {\n",
    "                'natural': ['water', 'bay']\n",
    "            }\n",
    "        },\n",
    "        'parking': {\n",
    "            'tags': {\n",
    "                'amenity': 'parking',\n",
    "                'highway': 'pedestrian',\n",
    "                'man_made': 'pier'\n",
    "            }\n",
    "        },\n",
    "        'streets': {\n",
    "            'width': {\n",
    "                'motorway': 5,\n",
    "                'trunk': 4,\n",
    "                'primary': 3.5,\n",
    "                'secondary': 3,\n",
    "                'tertiary': 2.5,\n",
    "                'residential': 2,\n",
    "                'service': 1.5,\n",
    "                'pedestrian': 1,\n",
    "                'footway': 1,\n",
    "            }\n",
    "        }\n",
    "        }\n",
    "    plot_style = {\n",
    "        'padding': 0.01,\n",
    "        'perimeter': {'fc': '#F2F4CB', 'ec': '#2F3737', 'hatch': 'ooo...','lw': 4, 'zorder': 7},\n",
    "        \"background\": {\n",
    "            \"fc\": \"#F2F4CB\",\n",
    "            \"ec\": \"#dadbc1\",\n",
    "            \"hatch\": \"ooo...\",\n",
    "        },\n",
    "        \"perimeter\": {\n",
    "            \"fc\": \"#F2F4CB\",\n",
    "            \"ec\": \"#dadbc1\",\n",
    "            \"lw\": 0,\n",
    "            \"hatch\": \"ooo...\",\n",
    "        },\n",
    "        \"green\": {\n",
    "            \"fc\": \"#D0F1BF\",\n",
    "            \"ec\": \"#2F3737\",\n",
    "            \"lw\": 1,\n",
    "        },\n",
    "        \"forest\": {\n",
    "            \"fc\": \"#64B96A\",\n",
    "            \"ec\": \"#2F3737\",\n",
    "            \"lw\": 1,\n",
    "        },\n",
    "        \"water\": {\n",
    "            \"fc\": \"#a1e3ff\",\n",
    "            \"ec\": \"#2F3737\",\n",
    "            \"hatch\": \"ooo...\",\n",
    "            \"hatch_c\": \"#85c9e6\",\n",
    "            \"lw\": 1,\n",
    "        },\n",
    "        \"parking\": {\n",
    "            \"fc\": \"#F2F4CB\",\n",
    "            \"ec\": \"#2F3737\",\n",
    "            \"lw\": 1,\n",
    "        },\n",
    "        \"streets\": {\n",
    "            \"fc\": \"#2F3737\",\n",
    "            \"ec\": \"#475657\",\n",
    "            \"alpha\": 1,\n",
    "            \"lw\": 0,\n",
    "        },\n",
    "        \"building\": {\n",
    "            \"palette\": [\n",
    "                \"#FFC857\",\n",
    "                \"#E9724C\",\n",
    "                \"#C5283D\"\n",
    "            ],\n",
    "            \"ec\": \"#2F3737\",\n",
    "            \"lw\": 0.5,\n",
    "        }}\n",
    "\n",
    "        # Check if the location is in the ocean\n",
    "    people, crafts = fetch_iss_occupants()\n",
    "    # Combine into a dictionary with the craft as the key and the people as the value\n",
    "    craft_dict = {}\n",
    "    for craft, person in zip(crafts, people):\n",
    "        if craft not in craft_dict:\n",
    "            craft_dict[craft] = []\n",
    "        craft_dict[craft].append(person)\n",
    "    # print(craft_dict)\n",
    "    if not checkOcean(location[0], location[1]):\n",
    "        print(f\"{location} is not in the ocean\")\n",
    "        # Draw a map with just the coordinates\n",
    "        fig, ax = plt.subplots(figsize=(10, 10))\n",
    "        ax.set_axis_off()\n",
    "\n",
    "        map = plot(\n",
    "            query = location,\n",
    "            radius = radius,\n",
    "            layers=plot_layers,\n",
    "            style=plot_style,\n",
    "            ax=ax,\n",
    "            credit=False,\n",
    "            circle=True,\n",
    "            dilate=True,\n",
    "            scale_x=.5,\n",
    "            scale_y=.5,\n",
    "        )\n",
    "\n",
    "        # print the number of people and the names of the people in the bottom left\n",
    "        y_start = 0.37\n",
    "        # print the number of people and the names of the people in the bottom left\n",
    "        ax.text(0.63, y_start, f\"{len(people)} people in the ISS\\n\", fontsize=16) \n",
    "        for craft, passengers in craft_dict.items():\n",
    "            ax.text(0.65, y_start - 0.03, f'{craft}\\n', fontsize=12, fontweight=700)\n",
    "            ax.text(0.70, y_start - 0.15, \"\\n\".join(passengers), fontsize=9)\n",
    "            ax.tick_params(axis='both', which='both', colors='white', labelsize=.1)\n",
    "\n",
    "            y_start -= 0.2  # Adjust the y-coordinate for the next set of text\n",
    "        \"\"\"ax.text(0.63, 0.17, f\"{len(people)} people in the ISS\\n\" ,fontsize=16) \n",
    "        ax.text(0.63, 0.14, f'ISS\\n' ,fontsize=14)\n",
    "        ax.text(0.83, 0.14, f'Shenzhou 15\\n' ,fontsize=14)\n",
    "        ax.text(0.63, 0.02, \"\\n\".join(craft_dict['ISS']) ,fontsize=9)\n",
    "        ax.text(0.83, 0.10, \"\\n\".join(craft_dict['Shenzhou 15']) ,fontsize=9)\n",
    "        ax.tick_params(axis='both', which='both', colors='white', labelsize=.1)\"\"\"\n",
    "        \n",
    "        return fig, ax\n",
    "    else:\n",
    "        # Return a blue square via matplotlib with the coordinates at the bottom left\n",
    "        fig, ax = plt.subplots(figsize=(10, 10))\n",
    "        ax.set_facecolor('#a1e3ff')\n",
    "        # print coordinates at the bottom left\n",
    "        ax.text(0.63, 0.97, f\" {location}\", fontsize=18)\n",
    "        ax.text(0.83, 0.95, f\" In the sea\", fontsize=9)\n",
    "        ax.tick_params(axis='both', which='both', colors='white', labelsize=.1)\n",
    "        # print the number of people and the names of the people in the bottom left\n",
    "        y_start = 0.37\n",
    "        # print the number of people and the names of the people in the bottom left\n",
    "        ax.text(0.63, y_start, f\"{len(people)} people in the ISS\\n\", fontsize=16) \n",
    "        for craft, passengers in craft_dict.items():\n",
    "            ax.text(0.65, y_start - 0.03, f'{craft}\\n', fontsize=12, fontweight=700)\n",
    "            ax.text(0.70, y_start - 0.15, \"\\n\".join(passengers), fontsize=9)\n",
    "            ax.tick_params(axis='both', which='both', colors='white', labelsize=.1)\n",
    "\n",
    "            y_start -= 0.2  # Adjust the y-coordinate for the next set of text\n",
    "        \"\"\"ax.text(0.63, 0.17, f\"{len(people)} people in the ISS\\n\" ,fontsize=16) \n",
    "        ax.text(0.63, 0.14, f'ISS\\n' ,fontsize=14)\n",
    "        ax.text(0.83, 0.14, f'Shenzhou 15\\n' ,fontsize=14)\n",
    "        ax.text(0.63, 0.02, \"\\n\".join(craft_dict['ISS']) ,fontsize=9)\n",
    "        ax.text(0.83, 0.10, \"\\n\".join(craft_dict['Shenzhou 15']) ,fontsize=9)\n",
    "        ax.tick_params(axis='both', which='both', colors='white', labelsize=.1)\"\"\"\n",
    "\n",
    "        # Remove the border\n",
    "        ax.spines['top'].set_visible(False)\n",
    "        ax.spines['right'].set_visible(False)\n",
    "        ax.spines['bottom'].set_visible(False)\n",
    "        ax.spines['left'].set_visible(False)\n",
    "\n",
    "        plt.show()\n",
    "        \n",
    "        return fig, ax\n",
    "\n",
    "drawMapWithPrettymaps(location)"
   ]
  },
  {
   "attachments": {},
   "cell_type": "markdown",
   "metadata": {},
   "source": [
    "#### Run the final function every 2 minutes"
   ]
  },
  {
   "cell_type": "code",
   "execution_count": null,
   "metadata": {},
   "outputs": [],
   "source": [
    "count = 0\n",
    "while count<10:\n",
    "    count += 1\n",
    "    # time.sleep(10)\n",
    "    new_location = fetch_iss_location()\n",
    "    drawMapWithPrettymaps(new_location)\n",
    "    print(count,'\\n')"
   ]
  },
  {
   "cell_type": "code",
   "execution_count": null,
   "metadata": {},
   "outputs": [],
   "source": []
  }
 ],
 "metadata": {
  "kernelspec": {
   "display_name": "Python 3",
   "language": "python",
   "name": "python3"
  },
  "language_info": {
   "codemirror_mode": {
    "name": "ipython",
    "version": 3
   },
   "file_extension": ".py",
   "mimetype": "text/x-python",
   "name": "python",
   "nbconvert_exporter": "python",
   "pygments_lexer": "ipython3",
   "version": "3.10.10"
  },
  "orig_nbformat": 4
 },
 "nbformat": 4,
 "nbformat_minor": 2
}
